{
  "nbformat": 4,
  "nbformat_minor": 0,
  "metadata": {
    "colab": {
      "provenance": [],
      "authorship_tag": "ABX9TyO6CzB42UipAm98MrZtbGJw",
      "include_colab_link": true
    },
    "kernelspec": {
      "name": "python3",
      "display_name": "Python 3"
    },
    "language_info": {
      "name": "python"
    }
  },
  "cells": [
    {
      "cell_type": "markdown",
      "metadata": {
        "id": "view-in-github",
        "colab_type": "text"
      },
      "source": [
        "<a href=\"https://colab.research.google.com/github/TorexAE/FundProg_202510/blob/main/Mis_primeros_pasos_en_python.ipynb\" target=\"_parent\"><img src=\"https://colab.research.google.com/assets/colab-badge.svg\" alt=\"Open In Colab\"/></a>"
      ]
    },
    {
      "cell_type": "code",
      "execution_count": null,
      "metadata": {
        "id": "Jgrx9pZHYi3X",
        "colab": {
          "base_uri": "https://localhost:8080/"
        },
        "outputId": "216af92c-a958-4d9b-c936-308696844341"
      },
      "outputs": [
        {
          "output_type": "stream",
          "name": "stdout",
          "text": [
            "What is your name?Tom\n",
            "What is your age?17\n",
            "What is your hometown?Bogota\n",
            "hello my name is Tom and I am 17 years old. I was born and raised in Bogota\n"
          ]
        }
      ],
      "source": [
        "name= (input(\"What is your name?\"))\n",
        "age= (input(\"What is your age?\"))\n",
        "hometown= (input(\"What is your hometown?\"))\n",
        "print (\"hello my name is\", name, \"and I am\", age, \"years old. I was born and raised in\", hometown)\n"
      ]
    },
    {
      "cell_type": "code",
      "source": [
        "print(\"Area y volumen del ortoedro\")\n",
        "a= float(input(\"Cual es la altura del ortoedro?\"))\n",
        "b= float(input(\"Cual es el valor de la base\"))\n",
        "c= float(input(\"Cual es el valor de la profundidad\"))\n",
        "volumen=(a*b*c)\n",
        "area=2*(a*b+a*c+b*c)\n",
        "print(\"El volumen del ortoedro es:\",volumen)\n",
        "print(\"El area del ortoedro es:\",area)\n"
      ],
      "metadata": {
        "colab": {
          "base_uri": "https://localhost:8080/"
        },
        "id": "Cjkv6aBWDIeA",
        "outputId": "94c3ac67-d3e8-475b-ff50-9adf8b17838b"
      },
      "execution_count": null,
      "outputs": [
        {
          "output_type": "stream",
          "name": "stdout",
          "text": [
            "Area y volumen del ortoedro\n",
            "Cual es la altura del ortoedro?50\n",
            "Cual es el valor de la base50\n",
            "Cual es el valor de la profundidad45\n",
            "El volumen del ortoedro es: 112500.0\n",
            "El area del ortoedro es: 14000.0\n"
          ]
        }
      ]
    },
    {
      "cell_type": "code",
      "source": [
        "print(\"Area y volumen de un cilindro\")\n",
        "pi= 3.1415\n",
        "r= float(input(\"Cual es el radio del cilindro?\"))\n",
        "h= float(input(\"Cual es la altura del cilindro?\"))\n",
        "volumen=(pi*r**2*h)\n",
        "area=2*pi*r*(h+r)\n",
        "print(\"El volumen del cilindro es:\",volumen)\n",
        "print(\"El area del cilindro es:\",area)"
      ],
      "metadata": {
        "colab": {
          "base_uri": "https://localhost:8080/"
        },
        "id": "HPsLyGjEG1Po",
        "outputId": "a37e4521-a77d-43a8-d3d4-81f13eeee787"
      },
      "execution_count": null,
      "outputs": [
        {
          "output_type": "stream",
          "name": "stdout",
          "text": [
            "Area y volumen de un cilindro\n",
            "Cual es el radio del cilindro?20\n",
            "Cual es la altura del cilindro?20\n",
            "El volumen del cilindro es: 25132.000000000004\n",
            "El area del cilindro es: 5026.400000000001\n"
          ]
        }
      ]
    },
    {
      "cell_type": "code",
      "source": [
        "print(\"Area y volumen de una esfera\")\n",
        "pi=3.1415\n",
        "r= float(input(\"Cual es el radio de la esfera?\"))\n",
        "volumen=(4/3)*pi*r**3\n",
        "area=4*pi*r**2\n",
        "print(\"El volumen de la esfera es:\",volumen)\n",
        "print(\"El area de la esfera es:\",area)"
      ],
      "metadata": {
        "colab": {
          "base_uri": "https://localhost:8080/"
        },
        "id": "JN1NQaufITub",
        "outputId": "fdfeb799-0ab6-42c8-b5b3-178be3a0dce1"
      },
      "execution_count": null,
      "outputs": [
        {
          "output_type": "stream",
          "name": "stdout",
          "text": [
            "Area y volumen de una esfera\n",
            "Cual es el radio de la esfera?50\n",
            "El volumen de la esfera es: 523583.3333333333\n",
            "El area de la esfera es: 31415.0\n"
          ]
        }
      ]
    }
  ]
}